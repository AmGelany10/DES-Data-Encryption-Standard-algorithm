{
 "cells": [
  {
   "cell_type": "markdown",
   "id": "3cd16899",
   "metadata": {},
   "source": [
    "## NETW1002 Systems and Network Security\n",
    "## Assignment one\n",
    "---------------------------\n",
    "* Mohamed Abdelmaksoud\n",
    "* Abdelrahman Gelany\n",
    "* Mohamed Diaa"
   ]
  },
  {
   "cell_type": "markdown",
   "id": "81f28b80",
   "metadata": {},
   "source": [
    "======================================================================================================================"
   ]
  },
  {
   "cell_type": "markdown",
   "id": "aabd872c",
   "metadata": {},
   "source": [
    "### Implementation of the <font color=greenish> DES </font> algorithm in Python with <font color=violet> ECB </font> and <font color=violet> CBC </font> modes of operation\n",
    "1. **used links**\n",
    ">>*[Link 1](https://gist.github.com/BlackRabbit-github/2924939)*\n",
    ">>*[Link 2](https://towardsdatascience.com/encrypt-and-decrypt-files-using-python-python-programming-pyshark-a67774bbf9f4)*\n",
    ">>*[link 3](https://www.delftstack.com/howto/python/python-convert-byte-to-hex/)*\n",
    ">>*[link 4](https://www.delftstack.com/howto/python/python-convert-hex-to-byte/)*\n",
    "\n",
    "2. **useful links**\n",
    ">>*[Link 5](https://gist.github.com/kurtbrose/3921909)*\n",
    ">>*[Link 6](https://www.geeksforgeeks.org/data-encryption-standard-des-set-1/#:~:text=DES%20is%20a%20block%20cipher,key%20length%20is%2056%20bits.)*\n",
    ">>*[Link 7](https://www.codegrepper.com/code-examples/python/base64+string+to+byte+array+python)*"
   ]
  },
  {
   "cell_type": "markdown",
   "id": "3102cc71",
   "metadata": {},
   "source": [
    "#### Library Installing and Importing"
   ]
  },
  {
   "cell_type": "code",
   "execution_count": 1,
   "id": "733bde60",
   "metadata": {},
   "outputs": [
    {
     "name": "stdout",
     "output_type": "stream",
     "text": [
      "Collecting pyDes\n",
      "  Downloading pyDes-2.0.1.tar.gz (9.9 kB)\n",
      "Building wheels for collected packages: pyDes\n",
      "  Building wheel for pyDes (setup.py): started\n",
      "  Building wheel for pyDes (setup.py): finished with status 'done'\n",
      "  Created wheel for pyDes: filename=pyDes-2.0.1-py2.py3-none-any.whl size=9548 sha256=697f61287284fe2e4c236eb3918186ab2d7ce51cb04777d7142cb3a5e67d7e60\n",
      "  Stored in directory: c:\\users\\abdog\\appdata\\local\\pip\\cache\\wheels\\4c\\c5\\bd\\8d4edfadd711fd4d398bea1b822ed912fdb700b830cd2b1a60\n",
      "Successfully built pyDes\n",
      "Installing collected packages: pyDes\n",
      "Successfully installed pyDes-2.0.1\n"
     ]
    }
   ],
   "source": [
    "# !pip install pyDes"
   ]
  },
  {
   "cell_type": "code",
   "execution_count": 1,
   "id": "51fd62e3",
   "metadata": {},
   "outputs": [],
   "source": [
    "from pyDes import *\n",
    "import base64"
   ]
  },
  {
   "cell_type": "markdown",
   "id": "61c1b5a8",
   "metadata": {},
   "source": [
    "#### _Note_\n",
    "> in pyDes library\n",
    "- The input and the output parameters are in Bytes representation\n",
    "\n",
    "> in Openssl\n",
    "- We write the parameters in Hexadecimal representation\n",
    "- when we add (-a), we produce the final output in Base64 representation\n",
    "\n",
    "> in the DES algorithm iself\n",
    "- it produces the outputs in Binary representation"
   ]
  },
  {
   "cell_type": "markdown",
   "id": "22110404",
   "metadata": {},
   "source": [
    "#### Conversion <font color=violet> (str) </font> to <font color=violet> (Hex) </font>"
   ]
  },
  {
   "cell_type": "code",
   "execution_count": 53,
   "id": "a9bcaaf1",
   "metadata": {},
   "outputs": [
    {
     "name": "stdout",
     "output_type": "stream",
     "text": [
      "524f445259474f53\n",
      "<class 'str'>\n",
      "b'RODRYGOS'\n",
      "<class 'bytes'>\n"
     ]
    }
   ],
   "source": [
    "#convert String to Hex\n",
    "print(('RODRYGOS'.encode('utf-8')).hex())\n",
    "print(type(('RODRYGOS'.encode('utf-8')).hex()))\n",
    "#convert Hex to Bytes\n",
    "print(bytes.fromhex('524f445259474f53'))\n",
    "print(type(bytes.fromhex('524f445259474f53')))"
   ]
  },
  {
   "cell_type": "markdown",
   "id": "665f3eaf",
   "metadata": {},
   "source": [
    "#### ELECTRONIC CODE BOOK MODE <font color=violet> (ECB) </font>"
   ]
  },
  {
   "cell_type": "code",
   "execution_count": 81,
   "id": "039a3513",
   "metadata": {},
   "outputs": [
    {
     "name": "stdout",
     "output_type": "stream",
     "text": [
      "Plain Text:  b'Real Madrid is the best club in the world'\n",
      "Encrypted Hex: '06a16d33cb5c25dc940d0813c8a1580ac1b9ce092801f388a968b13bf59d0944ab1ad1d8c69a0bde17d3762b54f71dfa'\n",
      "Encrypted Bytes: b'\\x06\\xa1m3\\xcb\\\\%\\xdc\\x94\\r\\x08\\x13\\xc8\\xa1X\\n\\xc1\\xb9\\xce\\t(\\x01\\xf3\\x88\\xa9h\\xb1;\\xf5\\x9d\\tD\\xab\\x1a\\xd1\\xd8\\xc6\\x9a\\x0b\\xde\\x17\\xd3v+T\\xf7\\x1d\\xfa'\n",
      "Encrypted Base64: b'BqFtM8tcJdyUDQgTyKFYCsG5zgkoAfOIqWixO/WdCUSrGtHYxpoL3hfTditU9x36'\n",
      "Decrypted: b'Real Madrid is the best club in the world'\n"
     ]
    }
   ],
   "source": [
    "#no need for IV in the ECB mode\n",
    "#with a 8-bytes key ('\\0'*8)\n",
    "data = b\"Real Madrid is the best club in the world\"\n",
    "key=bytes.fromhex('524f445259474f53')\n",
    "k = des(key, ECB, pad=None, padmode=PAD_PKCS5)\n",
    "# For Python3, you'll need to use bytes, i.e.:\n",
    "#   data = b\"Please encrypt my data\"\n",
    "#   k = des(b\"DESCRYPT\", CBC, b\"\\0\\0\\0\\0\\0\\0\\0\\0\", pad=None, padmode=PAD_PKCS5)\n",
    "d = k.encrypt(data)\n",
    "print(f'Plain Text:  {data}')\n",
    "print(\"Encrypted Hex: %r\" % d.hex())\n",
    "print(\"Encrypted Bytes: %r\" % d)\n",
    "print(\"Encrypted Base64: %r\" % base64.b64encode(d))\n",
    "print (\"Decrypted: %r\" % k.decrypt(d))\n",
    "assert k.decrypt(d, padmode=PAD_PKCS5) == data #data must be in Bytes"
   ]
  },
  {
   "cell_type": "markdown",
   "id": "f96667b5",
   "metadata": {},
   "source": [
    "#### CIPHER BLOCK CHAINING MODE <font color=violet> (CBC) </font>"
   ]
  },
  {
   "cell_type": "code",
   "execution_count": 60,
   "id": "fabd778c",
   "metadata": {},
   "outputs": [
    {
     "name": "stdout",
     "output_type": "stream",
     "text": [
      "Plain Text:  b'Real Madrid is the best club in the world'\n",
      "Encrypted Hex: '06a16d33cb5c25dcf22faf632ea5619d36299c3aeb93a502181f3887280b71364e1d20fd5d807a15a939bcf6b761dd15'\n",
      "Encrypted Bytes: b'\\x06\\xa1m3\\xcb\\\\%\\xdc\\xf2/\\xafc.\\xa5a\\x9d6)\\x9c:\\xeb\\x93\\xa5\\x02\\x18\\x1f8\\x87(\\x0bq6N\\x1d \\xfd]\\x80z\\x15\\xa99\\xbc\\xf6\\xb7a\\xdd\\x15'\n",
      "Encrypted Base64: b'BqFtM8tcJdzyL69jLqVhnTYpnDrrk6UCGB84hygLcTZOHSD9XYB6Fak5vPa3Yd0V'\n",
      "Decrypted: b'Real Madrid is the best club in the world'\n",
      "b'RODRYGOS'\n",
      "<class 'bytes'>\n"
     ]
    }
   ],
   "source": [
    "#with a 8-bytes key ('\\0'*8)\n",
    "data = b\"Real Madrid is the best club in the world\"\n",
    "key=bytes.fromhex('524f445259474f53')\n",
    "IV=bytes.fromhex('0000000000000000')\n",
    "k = des(key, CBC, IV, pad=None, padmode=PAD_PKCS5)\n",
    "d = k.encrypt(data)\n",
    "print(f'Plain Text:  {data}')\n",
    "print(\"Encrypted Hex: %r\" % d.hex())\n",
    "print(\"Encrypted Bytes: %r\" % d)\n",
    "print(\"Encrypted Base64: %r\" % base64.b64encode(d))\n",
    "print (\"Decrypted: %r\" % k.decrypt(d))\n",
    "assert k.decrypt(d, padmode=PAD_PKCS5) == data "
   ]
  },
  {
   "cell_type": "markdown",
   "id": "7718fd85",
   "metadata": {},
   "source": [
    "***======================================================================================================================***\n",
    "## <center><font color=blue>files encryption</font><center>"
   ]
  },
  {
   "cell_type": "markdown",
   "id": "f3eaebd7",
   "metadata": {},
   "source": [
    "#### Encrypting a Text file <br> <font color=violet>_(ECB)_</font> *mode and 8 bytes key*"
   ]
  },
  {
   "cell_type": "code",
   "execution_count": 2,
   "id": "bf7ccea4",
   "metadata": {},
   "outputs": [
    {
     "name": "stdout",
     "output_type": "stream",
     "text": [
      "The content of the plaintext file b'Real Madrid is the best club in the world'\n",
      "The content of the enctext file b'BqFtM8tcJdyUDQgTyKFYCsG5zgkoAfOIqWixO/WdCUSrGtHYxpoL3hfTditU9x36'\n"
     ]
    }
   ],
   "source": [
    "key=bytes.fromhex('524f445259474f53')\n",
    "k = des(key, ECB, pad=None, padmode=PAD_PKCS5)\n",
    "with open('clubs.txt', 'rb') as original_file:\n",
    "    original = original_file.read()\n",
    "\n",
    "encrypted = k.encrypt(original)\n",
    "\n",
    "with open ('clubs_enc.txt', 'wb') as encrypted_file:\n",
    "    encrypted_file.write(base64.b64encode(encrypted))\n",
    "\n",
    "print(f'The content of the plaintext file {original}')\n",
    "print(f'The content of the enctext file {base64.b64encode(encrypted)}')"
   ]
  },
  {
   "cell_type": "markdown",
   "id": "2eff44dc",
   "metadata": {},
   "source": [
    "#### Decrypting a Text file <br> <font color=violet>_(ECB)_</font> *mode and 8 bytes key*"
   ]
  },
  {
   "cell_type": "code",
   "execution_count": 3,
   "id": "448e81bf",
   "metadata": {},
   "outputs": [
    {
     "name": "stdout",
     "output_type": "stream",
     "text": [
      "The content of the plaintext file b'Real Madrid is the best club in the world'\n"
     ]
    }
   ],
   "source": [
    "key=bytes.fromhex('524f445259474f53')\n",
    "k = des(key, ECB, pad=None, padmode=PAD_PKCS5)\n",
    "with open('clubs_enc.txt', 'rb') as encrypted_file:\n",
    "    encrypted = encrypted_file.read()\n",
    "\n",
    "decrypted = k.decrypt(base64.b64decode(encrypted))\n",
    "\n",
    "with open('clubs_dec.txt', 'wb') as decrypted_file:\n",
    "    decrypted_file.write(decrypted)\n",
    "    \n",
    "print(f'The content of the plaintext file {decrypted}')"
   ]
  },
  {
   "cell_type": "markdown",
   "id": "7c382deb",
   "metadata": {},
   "source": [
    "----------------------------------------------------------\n",
    "----------------------------------------------------------"
   ]
  },
  {
   "cell_type": "markdown",
   "id": "5c0e6d6a",
   "metadata": {},
   "source": [
    "#### Encrypting a Text file <br> <font color=violet>_(CBC)_</font> *mode and 8 bytes key and IV*"
   ]
  },
  {
   "cell_type": "code",
   "execution_count": 4,
   "id": "c1430dfe",
   "metadata": {},
   "outputs": [
    {
     "name": "stdout",
     "output_type": "stream",
     "text": [
      "The content of the plaintext file b\"Karim Benzema is first ranking of Ballon d'Or 2022 of France football magazine\"\n",
      "The content of the enctext file b'zqxkNhOaeUMhjlgVSWz5vsBbe+ZMcdhDzgHJezgrENd/FQ/LerUY/35tufq4U5gxo8QdqEIbsE4fx1DffONPX5pcE54WmpjAw5IAFlnOIoY='\n"
     ]
    }
   ],
   "source": [
    "key=bytes.fromhex('524f445259474f53')\n",
    "IV=bytes.fromhex('0000000000000000')\n",
    "k = des(key, CBC, IV, pad=None, padmode=PAD_PKCS5)\n",
    "with open('players.txt', 'rb') as original_file:\n",
    "    original = original_file.read()\n",
    "\n",
    "encrypted = k.encrypt(original)\n",
    "\n",
    "with open ('players_enc.txt', 'wb') as encrypted_file:\n",
    "    encrypted_file.write(base64.b64encode(encrypted))\n",
    "    \n",
    "print(f'The content of the plaintext file {original}')\n",
    "print(f'The content of the enctext file {base64.b64encode(encrypted)}')"
   ]
  },
  {
   "cell_type": "markdown",
   "id": "b79f5cff",
   "metadata": {},
   "source": [
    "#### Decrypting a Text file <br> <font color=violet>_(CBC)_</font> *mode and 8 bytes key and IV*"
   ]
  },
  {
   "cell_type": "code",
   "execution_count": 5,
   "id": "cc5538ad",
   "metadata": {},
   "outputs": [
    {
     "name": "stdout",
     "output_type": "stream",
     "text": [
      "The content of the plaintext file b\"Karim Benzema is first ranking of Ballon d'Or 2022 of France football magazine\"\n"
     ]
    }
   ],
   "source": [
    "key=bytes.fromhex('524f445259474f53')\n",
    "IV=bytes.fromhex('0000000000000000')\n",
    "k = des(key, CBC, IV, pad=None, padmode=PAD_PKCS5)\n",
    "with open('players_enc.txt', 'rb') as encrypted_file:\n",
    "    encrypted = encrypted_file.read()\n",
    "\n",
    "decrypted = k.decrypt(base64.b64decode(encrypted))\n",
    "\n",
    "with open('players_dec.txt', 'wb') as decrypted_file:\n",
    "    decrypted_file.write(decrypted)\n",
    "    \n",
    "print(f'The content of the plaintext file {decrypted}')"
   ]
  },
  {
   "cell_type": "markdown",
   "id": "d045b1c0",
   "metadata": {},
   "source": [
    "# <center><font color = yellow> الحمد لله </font> <center>"
   ]
  }
 ],
 "metadata": {
  "kernelspec": {
   "display_name": "Python 3",
   "language": "python",
   "name": "python3"
  },
  "language_info": {
   "codemirror_mode": {
    "name": "ipython",
    "version": 3
   },
   "file_extension": ".py",
   "mimetype": "text/x-python",
   "name": "python",
   "nbconvert_exporter": "python",
   "pygments_lexer": "ipython3",
   "version": "3.8.8"
  }
 },
 "nbformat": 4,
 "nbformat_minor": 5
}
